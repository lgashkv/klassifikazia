{
 "cells": [
  {
   "cell_type": "code",
   "execution_count": 70,
   "metadata": {},
   "outputs": [],
   "source": [
    "from sklearn.datasets import load_boston\n",
    "import pandas as pd\n",
    "import numpy as np\n",
    "import matplotlib.pyplot as plt\n",
    "import seaborn as sns\n",
    "from matplotlib import colors"
   ]
  },
  {
   "cell_type": "code",
   "execution_count": 71,
   "metadata": {
    "scrolled": true
   },
   "outputs": [
    {
     "data": {
      "text/html": [
       "<div>\n",
       "<style scoped>\n",
       "    .dataframe tbody tr th:only-of-type {\n",
       "        vertical-align: middle;\n",
       "    }\n",
       "\n",
       "    .dataframe tbody tr th {\n",
       "        vertical-align: top;\n",
       "    }\n",
       "\n",
       "    .dataframe thead th {\n",
       "        text-align: right;\n",
       "    }\n",
       "</style>\n",
       "<table border=\"1\" class=\"dataframe\">\n",
       "  <thead>\n",
       "    <tr style=\"text-align: right;\">\n",
       "      <th></th>\n",
       "      <th>sepal_length</th>\n",
       "      <th>sepal_width</th>\n",
       "      <th>petal_length</th>\n",
       "      <th>petal_width</th>\n",
       "      <th>variety</th>\n",
       "    </tr>\n",
       "  </thead>\n",
       "  <tbody>\n",
       "    <tr>\n",
       "      <th>0</th>\n",
       "      <td>5.1</td>\n",
       "      <td>3.5</td>\n",
       "      <td>1.4</td>\n",
       "      <td>0.2</td>\n",
       "      <td>Setosa</td>\n",
       "    </tr>\n",
       "    <tr>\n",
       "      <th>1</th>\n",
       "      <td>4.9</td>\n",
       "      <td>3.0</td>\n",
       "      <td>1.4</td>\n",
       "      <td>0.2</td>\n",
       "      <td>Setosa</td>\n",
       "    </tr>\n",
       "    <tr>\n",
       "      <th>2</th>\n",
       "      <td>4.7</td>\n",
       "      <td>3.2</td>\n",
       "      <td>1.3</td>\n",
       "      <td>0.2</td>\n",
       "      <td>Setosa</td>\n",
       "    </tr>\n",
       "    <tr>\n",
       "      <th>3</th>\n",
       "      <td>4.6</td>\n",
       "      <td>3.1</td>\n",
       "      <td>1.5</td>\n",
       "      <td>0.2</td>\n",
       "      <td>Setosa</td>\n",
       "    </tr>\n",
       "    <tr>\n",
       "      <th>4</th>\n",
       "      <td>5.0</td>\n",
       "      <td>3.6</td>\n",
       "      <td>1.4</td>\n",
       "      <td>0.2</td>\n",
       "      <td>Setosa</td>\n",
       "    </tr>\n",
       "    <tr>\n",
       "      <th>...</th>\n",
       "      <td>...</td>\n",
       "      <td>...</td>\n",
       "      <td>...</td>\n",
       "      <td>...</td>\n",
       "      <td>...</td>\n",
       "    </tr>\n",
       "    <tr>\n",
       "      <th>145</th>\n",
       "      <td>6.7</td>\n",
       "      <td>3.0</td>\n",
       "      <td>5.2</td>\n",
       "      <td>2.3</td>\n",
       "      <td>Virginica</td>\n",
       "    </tr>\n",
       "    <tr>\n",
       "      <th>146</th>\n",
       "      <td>6.3</td>\n",
       "      <td>2.5</td>\n",
       "      <td>5.0</td>\n",
       "      <td>1.9</td>\n",
       "      <td>Virginica</td>\n",
       "    </tr>\n",
       "    <tr>\n",
       "      <th>147</th>\n",
       "      <td>6.5</td>\n",
       "      <td>3.0</td>\n",
       "      <td>5.2</td>\n",
       "      <td>2.0</td>\n",
       "      <td>Virginica</td>\n",
       "    </tr>\n",
       "    <tr>\n",
       "      <th>148</th>\n",
       "      <td>6.2</td>\n",
       "      <td>3.4</td>\n",
       "      <td>5.4</td>\n",
       "      <td>2.3</td>\n",
       "      <td>Virginica</td>\n",
       "    </tr>\n",
       "    <tr>\n",
       "      <th>149</th>\n",
       "      <td>5.9</td>\n",
       "      <td>3.0</td>\n",
       "      <td>5.1</td>\n",
       "      <td>1.8</td>\n",
       "      <td>Virginica</td>\n",
       "    </tr>\n",
       "  </tbody>\n",
       "</table>\n",
       "<p>150 rows × 5 columns</p>\n",
       "</div>"
      ],
      "text/plain": [
       "     sepal_length  sepal_width  petal_length  petal_width    variety\n",
       "0             5.1          3.5           1.4          0.2     Setosa\n",
       "1             4.9          3.0           1.4          0.2     Setosa\n",
       "2             4.7          3.2           1.3          0.2     Setosa\n",
       "3             4.6          3.1           1.5          0.2     Setosa\n",
       "4             5.0          3.6           1.4          0.2     Setosa\n",
       "..            ...          ...           ...          ...        ...\n",
       "145           6.7          3.0           5.2          2.3  Virginica\n",
       "146           6.3          2.5           5.0          1.9  Virginica\n",
       "147           6.5          3.0           5.2          2.0  Virginica\n",
       "148           6.2          3.4           5.4          2.3  Virginica\n",
       "149           5.9          3.0           5.1          1.8  Virginica\n",
       "\n",
       "[150 rows x 5 columns]"
      ]
     },
     "execution_count": 71,
     "metadata": {},
     "output_type": "execute_result"
    }
   ],
   "source": [
    "df = pd.read_csv('C:\\\\Users\\\\Ольга\\\\Downloads\\\\flowers2.csv')\n",
    "df"
   ]
  },
  {
   "cell_type": "code",
   "execution_count": 72,
   "metadata": {},
   "outputs": [],
   "source": [
    "#Мне приходится это сделать, потому что в дальнейшем если я поставлю Y-Train, как variety\n",
    "#мне напишут 'c' argument must be a color, a sequence of colors\n",
    "#\n",
    "def ozenka(df):\n",
    "    if df == 'Setosa':\n",
    "        return 1\n",
    "    elif df == 'Virginica':\n",
    "        return 2\n",
    "    else:\n",
    "        return 3\n",
    "\n",
    "df['classification'] = df['variety'].apply(ozenka)\n"
   ]
  },
  {
   "cell_type": "code",
   "execution_count": 73,
   "metadata": {},
   "outputs": [],
   "source": [
    "iris = df[['sepal_length', 'sepal_width', 'classification']]"
   ]
  },
  {
   "cell_type": "code",
   "execution_count": 74,
   "metadata": {},
   "outputs": [],
   "source": [
    "from sklearn.linear_model import LinearRegression\n",
    "from sklearn.model_selection import train_test_split"
   ]
  },
  {
   "cell_type": "code",
   "execution_count": 75,
   "metadata": {},
   "outputs": [],
   "source": [
    "X = df[['sepal_length', 'sepal_width']]\n",
    "y = df['classification']"
   ]
  },
  {
   "cell_type": "code",
   "execution_count": 76,
   "metadata": {},
   "outputs": [],
   "source": [
    "X_train, X_test, y_train, y_test = train_test_split(X, y, test_size=0.2, random_state=42)"
   ]
  },
  {
   "cell_type": "code",
   "execution_count": 77,
   "metadata": {},
   "outputs": [
    {
     "data": {
      "text/plain": [
       "30"
      ]
     },
     "execution_count": 77,
     "metadata": {},
     "output_type": "execute_result"
    }
   ],
   "source": [
    "len(y_test)"
   ]
  },
  {
   "cell_type": "code",
   "execution_count": 78,
   "metadata": {},
   "outputs": [],
   "source": [
    "from sklearn.discriminant_analysis import LinearDiscriminantAnalysis"
   ]
  },
  {
   "cell_type": "code",
   "execution_count": 79,
   "metadata": {},
   "outputs": [],
   "source": [
    "lda = LinearDiscriminantAnalysis()"
   ]
  },
  {
   "cell_type": "code",
   "execution_count": 80,
   "metadata": {},
   "outputs": [
    {
     "data": {
      "text/plain": [
       "LinearDiscriminantAnalysis()"
      ]
     },
     "execution_count": 80,
     "metadata": {},
     "output_type": "execute_result"
    }
   ],
   "source": [
    "lda.fit(X_train, y_train)"
   ]
  },
  {
   "cell_type": "code",
   "execution_count": 81,
   "metadata": {},
   "outputs": [
    {
     "data": {
      "text/plain": [
       "array([1, 1, 2, 1, 1, 2, 2, 1, 1, 1, 3, 3, 2, 1, 1, 3, 2, 2, 2, 2, 3, 2,\n",
       "       3, 1, 2, 3, 1, 1, 1, 3, 2, 1, 1, 1, 3, 1, 3, 2, 1, 3, 3, 1, 3, 3,\n",
       "       3, 3, 3, 3, 1, 3, 2, 1, 1, 3, 2, 1, 3, 1, 1, 3, 3, 2, 3, 3, 2, 3,\n",
       "       1, 1, 3, 2, 1, 1, 1, 2, 3, 1, 2, 3, 1, 3, 2, 3, 2, 2, 1, 2, 3, 2,\n",
       "       3, 3, 3, 3, 2, 3, 1, 3, 2, 2, 1, 3, 2, 2, 1, 2, 1, 2, 2, 2, 3, 2,\n",
       "       2, 2, 3, 3, 1, 3, 3, 1, 3, 2], dtype=int64)"
      ]
     },
     "execution_count": 81,
     "metadata": {},
     "output_type": "execute_result"
    }
   ],
   "source": [
    "lda.predict(X_train)"
   ]
  },
  {
   "cell_type": "code",
   "execution_count": 82,
   "metadata": {},
   "outputs": [],
   "source": [
    "result = pd.DataFrame([y_test,lda.predict(X_test)]).T"
   ]
  },
  {
   "cell_type": "code",
   "execution_count": 83,
   "metadata": {},
   "outputs": [
    {
     "data": {
      "text/html": [
       "<div>\n",
       "<style scoped>\n",
       "    .dataframe tbody tr th:only-of-type {\n",
       "        vertical-align: middle;\n",
       "    }\n",
       "\n",
       "    .dataframe tbody tr th {\n",
       "        vertical-align: top;\n",
       "    }\n",
       "\n",
       "    .dataframe thead th {\n",
       "        text-align: right;\n",
       "    }\n",
       "</style>\n",
       "<table border=\"1\" class=\"dataframe\">\n",
       "  <thead>\n",
       "    <tr style=\"text-align: right;\">\n",
       "      <th></th>\n",
       "      <th>classification</th>\n",
       "      <th>Unnamed 0</th>\n",
       "    </tr>\n",
       "  </thead>\n",
       "  <tbody>\n",
       "    <tr>\n",
       "      <th>73</th>\n",
       "      <td>3.0</td>\n",
       "      <td>NaN</td>\n",
       "    </tr>\n",
       "    <tr>\n",
       "      <th>18</th>\n",
       "      <td>1.0</td>\n",
       "      <td>3.0</td>\n",
       "    </tr>\n",
       "    <tr>\n",
       "      <th>118</th>\n",
       "      <td>2.0</td>\n",
       "      <td>NaN</td>\n",
       "    </tr>\n",
       "    <tr>\n",
       "      <th>78</th>\n",
       "      <td>3.0</td>\n",
       "      <td>NaN</td>\n",
       "    </tr>\n",
       "    <tr>\n",
       "      <th>76</th>\n",
       "      <td>3.0</td>\n",
       "      <td>NaN</td>\n",
       "    </tr>\n",
       "    <tr>\n",
       "      <th>31</th>\n",
       "      <td>1.0</td>\n",
       "      <td>NaN</td>\n",
       "    </tr>\n",
       "    <tr>\n",
       "      <th>64</th>\n",
       "      <td>3.0</td>\n",
       "      <td>NaN</td>\n",
       "    </tr>\n",
       "    <tr>\n",
       "      <th>141</th>\n",
       "      <td>2.0</td>\n",
       "      <td>NaN</td>\n",
       "    </tr>\n",
       "    <tr>\n",
       "      <th>68</th>\n",
       "      <td>3.0</td>\n",
       "      <td>NaN</td>\n",
       "    </tr>\n",
       "    <tr>\n",
       "      <th>82</th>\n",
       "      <td>3.0</td>\n",
       "      <td>NaN</td>\n",
       "    </tr>\n",
       "    <tr>\n",
       "      <th>110</th>\n",
       "      <td>2.0</td>\n",
       "      <td>NaN</td>\n",
       "    </tr>\n",
       "    <tr>\n",
       "      <th>12</th>\n",
       "      <td>1.0</td>\n",
       "      <td>1.0</td>\n",
       "    </tr>\n",
       "    <tr>\n",
       "      <th>36</th>\n",
       "      <td>1.0</td>\n",
       "      <td>NaN</td>\n",
       "    </tr>\n",
       "    <tr>\n",
       "      <th>9</th>\n",
       "      <td>1.0</td>\n",
       "      <td>3.0</td>\n",
       "    </tr>\n",
       "    <tr>\n",
       "      <th>19</th>\n",
       "      <td>1.0</td>\n",
       "      <td>2.0</td>\n",
       "    </tr>\n",
       "    <tr>\n",
       "      <th>56</th>\n",
       "      <td>3.0</td>\n",
       "      <td>NaN</td>\n",
       "    </tr>\n",
       "    <tr>\n",
       "      <th>104</th>\n",
       "      <td>2.0</td>\n",
       "      <td>NaN</td>\n",
       "    </tr>\n",
       "    <tr>\n",
       "      <th>69</th>\n",
       "      <td>3.0</td>\n",
       "      <td>NaN</td>\n",
       "    </tr>\n",
       "    <tr>\n",
       "      <th>55</th>\n",
       "      <td>3.0</td>\n",
       "      <td>NaN</td>\n",
       "    </tr>\n",
       "    <tr>\n",
       "      <th>132</th>\n",
       "      <td>2.0</td>\n",
       "      <td>NaN</td>\n",
       "    </tr>\n",
       "    <tr>\n",
       "      <th>29</th>\n",
       "      <td>1.0</td>\n",
       "      <td>1.0</td>\n",
       "    </tr>\n",
       "    <tr>\n",
       "      <th>127</th>\n",
       "      <td>2.0</td>\n",
       "      <td>NaN</td>\n",
       "    </tr>\n",
       "    <tr>\n",
       "      <th>26</th>\n",
       "      <td>1.0</td>\n",
       "      <td>2.0</td>\n",
       "    </tr>\n",
       "    <tr>\n",
       "      <th>128</th>\n",
       "      <td>2.0</td>\n",
       "      <td>NaN</td>\n",
       "    </tr>\n",
       "    <tr>\n",
       "      <th>131</th>\n",
       "      <td>2.0</td>\n",
       "      <td>NaN</td>\n",
       "    </tr>\n",
       "    <tr>\n",
       "      <th>145</th>\n",
       "      <td>2.0</td>\n",
       "      <td>NaN</td>\n",
       "    </tr>\n",
       "    <tr>\n",
       "      <th>108</th>\n",
       "      <td>2.0</td>\n",
       "      <td>NaN</td>\n",
       "    </tr>\n",
       "    <tr>\n",
       "      <th>143</th>\n",
       "      <td>2.0</td>\n",
       "      <td>NaN</td>\n",
       "    </tr>\n",
       "    <tr>\n",
       "      <th>45</th>\n",
       "      <td>1.0</td>\n",
       "      <td>NaN</td>\n",
       "    </tr>\n",
       "    <tr>\n",
       "      <th>30</th>\n",
       "      <td>1.0</td>\n",
       "      <td>NaN</td>\n",
       "    </tr>\n",
       "  </tbody>\n",
       "</table>\n",
       "</div>"
      ],
      "text/plain": [
       "     classification  Unnamed 0\n",
       "73              3.0        NaN\n",
       "18              1.0        3.0\n",
       "118             2.0        NaN\n",
       "78              3.0        NaN\n",
       "76              3.0        NaN\n",
       "31              1.0        NaN\n",
       "64              3.0        NaN\n",
       "141             2.0        NaN\n",
       "68              3.0        NaN\n",
       "82              3.0        NaN\n",
       "110             2.0        NaN\n",
       "12              1.0        1.0\n",
       "36              1.0        NaN\n",
       "9               1.0        3.0\n",
       "19              1.0        2.0\n",
       "56              3.0        NaN\n",
       "104             2.0        NaN\n",
       "69              3.0        NaN\n",
       "55              3.0        NaN\n",
       "132             2.0        NaN\n",
       "29              1.0        1.0\n",
       "127             2.0        NaN\n",
       "26              1.0        2.0\n",
       "128             2.0        NaN\n",
       "131             2.0        NaN\n",
       "145             2.0        NaN\n",
       "108             2.0        NaN\n",
       "143             2.0        NaN\n",
       "45              1.0        NaN\n",
       "30              1.0        NaN"
      ]
     },
     "execution_count": 83,
     "metadata": {},
     "output_type": "execute_result"
    }
   ],
   "source": [
    "#Очень плохой результат. что сделано не так?\n",
    "result"
   ]
  },
  {
   "cell_type": "code",
   "execution_count": 84,
   "metadata": {},
   "outputs": [],
   "source": [
    "from sklearn.metrics import accuracy_score"
   ]
  },
  {
   "cell_type": "code",
   "execution_count": 85,
   "metadata": {},
   "outputs": [
    {
     "data": {
      "text/plain": [
       "0.9"
      ]
     },
     "execution_count": 85,
     "metadata": {},
     "output_type": "execute_result"
    }
   ],
   "source": [
    "accuracy_score(y_test,lda.predict(X_test))"
   ]
  },
  {
   "cell_type": "code",
   "execution_count": 86,
   "metadata": {},
   "outputs": [
    {
     "data": {
      "text/plain": [
       "array([[-5.98937381,  8.39904481],\n",
       "       [ 4.17811472, -4.38202597],\n",
       "       [ 1.86898728, -4.02592145]])"
      ]
     },
     "execution_count": 86,
     "metadata": {},
     "output_type": "execute_result"
    }
   ],
   "source": [
    "lda.coef_"
   ]
  },
  {
   "cell_type": "code",
   "execution_count": 87,
   "metadata": {},
   "outputs": [
    {
     "name": "stdout",
     "output_type": "stream",
     "text": [
      "3.2.2\n",
      "[[1.  0.2 0.5 1. ]\n",
      " [0.4 1.  0.2 1. ]\n",
      " [0.  0.5 1.  1. ]]\n"
     ]
    }
   ],
   "source": [
    "import matplotlib as mpl\n",
    "print(mpl.__version__)\n",
    "colors = [(0, .5, 1), (1, .2, .5), (.4, 1, .2)]\n",
    "cmap = mpl.colors.ListedColormap(set(colors))\n",
    "print(cmap([0, .5, 1]))"
   ]
  },
  {
   "cell_type": "code",
   "execution_count": 88,
   "metadata": {},
   "outputs": [
    {
     "data": {
      "image/png": "[encoded data removed]",
      "text/plain": [
       "<Figure size 432x288 with 1 Axes>"
      ]
     },
     "metadata": {
      "needs_background": "light"
     },
     "output_type": "display_data"
    }
   ],
   "source": [
    "plt.scatter(x=X_train['sepal_length'], y=X_train['sepal_width'],c=y_train)\n",
    "plt.show()"
   ]
  },
  {
   "cell_type": "code",
   "execution_count": 89,
   "metadata": {},
   "outputs": [],
   "source": [
    "#Здесь разделяющая черта диагональ, 2 признака несут одинаковый значения. по крайней мере отсортировали один вид от двух других"
   ]
  },
  {
   "cell_type": "code",
   "execution_count": 90,
   "metadata": {},
   "outputs": [],
   "source": [
    "small_train = X_train[(y_train == 2) | (y_train == 1)]\n",
    "small_train = small_train[['sepal_length', 'sepal_width']]\n",
    "sy_train = y_train[(y_train == 2) | (y_train == 1)]\n",
    "small_test = X_test[(y_test == 2) | (y_test == 1)]\n",
    "small_test = small_test[['sepal_length', 'sepal_width']]\n",
    "sy_test = y_test[(y_test == 2) | (y_test == 1)]"
   ]
  },
  {
   "cell_type": "code",
   "execution_count": 91,
   "metadata": {},
   "outputs": [
    {
     "data": {
      "image/png": "[encoded data removed]",
      "text/plain": [
       "<Figure size 432x288 with 1 Axes>"
      ]
     },
     "metadata": {
      "needs_background": "light"
     },
     "output_type": "display_data"
    }
   ],
   "source": [
    "plt.scatter(small_train['sepal_length'], small_train['sepal_width'], c=sy_train)\n",
    "plt.show()"
   ]
  },
  {
   "cell_type": "code",
   "execution_count": 92,
   "metadata": {},
   "outputs": [],
   "source": [
    "#есть какое то разделение по sepal_length по крайней мере у Virginica и Setosa"
   ]
  },
  {
   "cell_type": "code",
   "execution_count": 93,
   "metadata": {},
   "outputs": [
    {
     "data": {
      "text/plain": [
       "LinearDiscriminantAnalysis()"
      ]
     },
     "execution_count": 93,
     "metadata": {},
     "output_type": "execute_result"
    }
   ],
   "source": [
    "lda_small = LinearDiscriminantAnalysis()\n",
    "lda_small.fit(small_train, sy_train)"
   ]
  },
  {
   "cell_type": "code",
   "execution_count": 94,
   "metadata": {},
   "outputs": [
    {
     "data": {
      "text/plain": [
       "array([[4.99      , 3.4525    ],\n",
       "       [6.53333333, 2.96666667]])"
      ]
     },
     "execution_count": 94,
     "metadata": {},
     "output_type": "execute_result"
    }
   ],
   "source": [
    "lda_small.means_"
   ]
  },
  {
   "cell_type": "code",
   "execution_count": 95,
   "metadata": {},
   "outputs": [
    {
     "data": {
      "text/plain": [
       "1.0"
      ]
     },
     "execution_count": 95,
     "metadata": {},
     "output_type": "execute_result"
    }
   ],
   "source": [
    "accuracy_score(sy_test, lda_small.predict(small_test))"
   ]
  },
  {
   "cell_type": "code",
   "execution_count": 96,
   "metadata": {},
   "outputs": [],
   "source": [
    "#я потренировалась на линейной регрессии, но правильно в данном случае использовать логистическую"
   ]
  },
  {
   "cell_type": "code",
   "execution_count": 97,
   "metadata": {},
   "outputs": [],
   "source": [
    "from sklearn.linear_model import LogisticRegression\n",
    "lr = LogisticRegression()"
   ]
  },
  {
   "cell_type": "code",
   "execution_count": 101,
   "metadata": {},
   "outputs": [
    {
     "data": {
      "text/plain": [
       "LogisticRegression()"
      ]
     },
     "execution_count": 101,
     "metadata": {},
     "output_type": "execute_result"
    }
   ],
   "source": [
    "lr.fit(small_train, sy_train)"
   ]
  },
  {
   "cell_type": "code",
   "execution_count": 102,
   "metadata": {},
   "outputs": [
    {
     "data": {
      "text/plain": [
       "array([1, 2, 1, 2, 2, 1, 1, 1, 1, 2, 2, 1, 2, 1, 2, 2, 2, 2, 2, 1, 1],\n",
       "      dtype=int64)"
      ]
     },
     "execution_count": 102,
     "metadata": {},
     "output_type": "execute_result"
    }
   ],
   "source": [
    "lr.predict(small_test)"
   ]
  },
  {
   "cell_type": "code",
   "execution_count": 103,
   "metadata": {},
   "outputs": [
    {
     "data": {
      "text/plain": [
       "array([[7.47767000e-01, 2.52233000e-01],\n",
       "       [6.95999644e-04, 9.99304000e-01],\n",
       "       [7.56095439e-01, 2.43904561e-01],\n",
       "       [2.01281625e-02, 9.79871837e-01],\n",
       "       [7.54501234e-02, 9.24549877e-01],\n",
       "       [8.86384967e-01, 1.13615033e-01],\n",
       "       [7.40205412e-01, 2.59794588e-01],\n",
       "       [8.77609113e-01, 1.22390887e-01],\n",
       "       [9.44972519e-01, 5.50274811e-02],\n",
       "       [5.10449313e-02, 9.48955069e-01],\n",
       "       [4.53596789e-02, 9.54640321e-01],\n",
       "       [9.40694686e-01, 5.93053145e-02],\n",
       "       [1.47845686e-01, 8.52154314e-01],\n",
       "       [9.09079516e-01, 9.09204837e-02],\n",
       "       [4.53596789e-02, 9.54640321e-01],\n",
       "       [4.70659264e-03, 9.95293407e-01],\n",
       "       [2.90802796e-02, 9.70919720e-01],\n",
       "       [1.04542896e-02, 9.89545710e-01],\n",
       "       [3.27952139e-02, 9.67204786e-01],\n",
       "       [8.86384967e-01, 1.13615033e-01],\n",
       "       [9.05744283e-01, 9.42557169e-02]])"
      ]
     },
     "execution_count": 103,
     "metadata": {},
     "output_type": "execute_result"
    }
   ],
   "source": [
    "lr.predict_proba(small_test)"
   ]
  },
  {
   "cell_type": "code",
   "execution_count": 104,
   "metadata": {},
   "outputs": [
    {
     "data": {
      "text/plain": [
       "1.0"
      ]
     },
     "execution_count": 104,
     "metadata": {},
     "output_type": "execute_result"
    }
   ],
   "source": [
    "accuracy_score(sy_test, lr.predict(small_test))"
   ]
  },
  {
   "cell_type": "code",
   "execution_count": 105,
   "metadata": {},
   "outputs": [
    {
     "data": {
      "text/plain": [
       "array([[ 2.9276416 , -2.08410011]])"
      ]
     },
     "execution_count": 105,
     "metadata": {},
     "output_type": "execute_result"
    }
   ],
   "source": [
    "lr.coef_"
   ]
  },
  {
   "cell_type": "code",
   "execution_count": 108,
   "metadata": {},
   "outputs": [
    {
     "ename": "AttributeError",
     "evalue": "'list' object has no attribute 'Normalize'",
     "output_type": "error",
     "traceback": [
      "\u001b[1;31m---------------------------------------------------------------------------\u001b[0m",
      "\u001b[1;31mAttributeError\u001b[0m                            Traceback (most recent call last)",
      "\u001b[1;32m<ipython-input-108-7c07ec6c878a>\u001b[0m in \u001b[0;36m<module>\u001b[1;34m\u001b[0m\n\u001b[0;32m      8\u001b[0m \u001b[0mZ\u001b[0m \u001b[1;33m=\u001b[0m \u001b[0mZ\u001b[0m\u001b[1;33m[\u001b[0m\u001b[1;33m:\u001b[0m\u001b[1;33m,\u001b[0m \u001b[1;36m1\u001b[0m\u001b[1;33m]\u001b[0m\u001b[1;33m.\u001b[0m\u001b[0mreshape\u001b[0m\u001b[1;33m(\u001b[0m\u001b[0mxx\u001b[0m\u001b[1;33m.\u001b[0m\u001b[0mshape\u001b[0m\u001b[1;33m)\u001b[0m\u001b[1;33m\u001b[0m\u001b[1;33m\u001b[0m\u001b[0m\n\u001b[0;32m      9\u001b[0m plt.pcolormesh(xx, yy, Z, cmap='red_blue_classes',\n\u001b[1;32m---> 10\u001b[1;33m                    norm=colors.Normalize(0., 1.), zorder=-1, shading='auto')\n\u001b[0m\u001b[0;32m     11\u001b[0m \u001b[0mplt\u001b[0m\u001b[1;33m.\u001b[0m\u001b[0mcontour\u001b[0m\u001b[1;33m(\u001b[0m\u001b[0mxx\u001b[0m\u001b[1;33m,\u001b[0m \u001b[0myy\u001b[0m\u001b[1;33m,\u001b[0m \u001b[0mZ\u001b[0m\u001b[1;33m,\u001b[0m \u001b[1;33m[\u001b[0m\u001b[1;36m0.5\u001b[0m\u001b[1;33m]\u001b[0m\u001b[1;33m,\u001b[0m \u001b[0mlinewidths\u001b[0m\u001b[1;33m=\u001b[0m\u001b[1;36m2.\u001b[0m\u001b[1;33m,\u001b[0m \u001b[0mcolors\u001b[0m\u001b[1;33m=\u001b[0m\u001b[1;34m'white'\u001b[0m\u001b[1;33m)\u001b[0m\u001b[1;33m\u001b[0m\u001b[1;33m\u001b[0m\u001b[0m\n\u001b[0;32m     12\u001b[0m \u001b[0mplt\u001b[0m\u001b[1;33m.\u001b[0m\u001b[0mshow\u001b[0m\u001b[1;33m(\u001b[0m\u001b[1;33m)\u001b[0m\u001b[1;33m\u001b[0m\u001b[1;33m\u001b[0m\u001b[0m\n",
      "\u001b[1;31mAttributeError\u001b[0m: 'list' object has no attribute 'Normalize'"
     ]
    },
    {
     "data": {
      "image/png": "[encoded data removed]",
      "text/plain": [
       "<Figure size 432x288 with 1 Axes>"
      ]
     },
     "metadata": {
      "needs_background": "light"
     },
     "output_type": "display_data"
    }
   ],
   "source": [
    "plt.scatter(small_train['sepal_length'], small_train['sepal_width'], c=sy_train)\n",
    "nx, ny = 200, 100\n",
    "x_min, x_max = plt.xlim()\n",
    "y_min, y_max = plt.ylim()\n",
    "xx, yy = np.meshgrid(np.linspace(x_min, x_max, nx),\n",
    "                         np.linspace(y_min, y_max, ny))\n",
    "Z = lr.predict_proba(np.c_[xx.ravel(), yy.ravel()])\n",
    "Z = Z[:, 1].reshape(xx.shape)\n",
    "plt.pcolormesh(xx, yy, Z, cmap='red_blue_classes',\n",
    "                   norm=colors.Normalize(0., 1.), zorder=-1, shading='auto')\n",
    "plt.contour(xx, yy, Z, [0.5], linewidths=2., colors='white')\n",
    "plt.show()"
   ]
  },
  {
   "cell_type": "code",
   "execution_count": 109,
   "metadata": {},
   "outputs": [],
   "source": [
    "irisklaster = df[['sepal_length', 'sepal_width']]"
   ]
  },
  {
   "cell_type": "code",
   "execution_count": 110,
   "metadata": {},
   "outputs": [
    {
     "data": {
      "text/plain": [
       "<matplotlib.collections.PathCollection at 0x186e4195be0>"
      ]
     },
     "execution_count": 110,
     "metadata": {},
     "output_type": "execute_result"
    },
    {
     "data": {
      "image/png": "[encoded data removed]",
      "text/plain": [
       "<Figure size 432x288 with 1 Axes>"
      ]
     },
     "metadata": {
      "needs_background": "light"
     },
     "output_type": "display_data"
    }
   ],
   "source": [
    "plt.scatter(irisklaster['sepal_length'],irisklaster['sepal_width'], cmap='autumn', s=60)"
   ]
  },
  {
   "cell_type": "code",
   "execution_count": 111,
   "metadata": {},
   "outputs": [],
   "source": [
    "from sklearn.preprocessing import StandardScaler\n",
    "scaler = StandardScaler()"
   ]
  },
  {
   "cell_type": "code",
   "execution_count": 112,
   "metadata": {},
   "outputs": [],
   "source": [
    "v_1 = np.array(np.random.randint(0, 1000, 500))\n",
    "v_2 = np.array(np.random.randint(0, 10, 500))"
   ]
  },
  {
   "cell_type": "code",
   "execution_count": 113,
   "metadata": {},
   "outputs": [
    {
     "name": "stdout",
     "output_type": "stream",
     "text": [
      "999\n",
      "0\n",
      "9\n",
      "0\n"
     ]
    }
   ],
   "source": [
    "print(v_1.max())\n",
    "print(v_1.min())\n",
    "\n",
    "print(v_2.max())\n",
    "print(v_2.min())"
   ]
  },
  {
   "cell_type": "code",
   "execution_count": 114,
   "metadata": {},
   "outputs": [
    {
     "data": {
      "text/plain": [
       "array([[-1.1594465 ],\n",
       "       [-0.81498824],\n",
       "       [ 0.21838654],\n",
       "       [-1.1594465 ],\n",
       "       [-1.1594465 ],\n",
       "       [ 1.59621957],\n",
       "       [-0.81498824],\n",
       "       [ 0.21838654],\n",
       "       [-1.50390476],\n",
       "       [ 0.21838654],\n",
       "       [ 0.90730306],\n",
       "       [ 0.90730306],\n",
       "       [ 1.25176132],\n",
       "       [ 1.25176132],\n",
       "       [ 1.59621957],\n",
       "       [ 0.5628448 ],\n",
       "       [-0.47052998],\n",
       "       [ 1.59621957],\n",
       "       [-1.1594465 ],\n",
       "       [-0.12607172],\n",
       "       [-0.47052998],\n",
       "       [-0.47052998],\n",
       "       [-0.47052998],\n",
       "       [-0.47052998],\n",
       "       [-0.81498824],\n",
       "       [ 1.59621957],\n",
       "       [ 0.21838654],\n",
       "       [-0.47052998],\n",
       "       [-0.81498824],\n",
       "       [ 0.90730306],\n",
       "       [-0.47052998],\n",
       "       [-1.50390476],\n",
       "       [-0.81498824],\n",
       "       [-0.81498824],\n",
       "       [ 0.21838654],\n",
       "       [-0.81498824],\n",
       "       [-0.47052998],\n",
       "       [-1.1594465 ],\n",
       "       [ 0.90730306],\n",
       "       [ 1.25176132],\n",
       "       [-1.50390476],\n",
       "       [ 0.21838654],\n",
       "       [-1.1594465 ],\n",
       "       [ 1.25176132],\n",
       "       [ 1.59621957],\n",
       "       [ 0.90730306],\n",
       "       [-1.50390476],\n",
       "       [ 1.59621957],\n",
       "       [-1.50390476],\n",
       "       [-1.1594465 ],\n",
       "       [ 0.5628448 ],\n",
       "       [-0.81498824],\n",
       "       [ 0.5628448 ],\n",
       "       [-1.1594465 ],\n",
       "       [ 0.5628448 ],\n",
       "       [ 1.59621957],\n",
       "       [-0.81498824],\n",
       "       [ 1.25176132],\n",
       "       [-1.50390476],\n",
       "       [-0.47052998],\n",
       "       [ 0.5628448 ],\n",
       "       [-0.12607172],\n",
       "       [-1.50390476],\n",
       "       [-0.81498824],\n",
       "       [-0.81498824],\n",
       "       [ 1.59621957],\n",
       "       [ 1.25176132],\n",
       "       [ 1.25176132],\n",
       "       [-0.47052998],\n",
       "       [ 1.25176132],\n",
       "       [-0.12607172],\n",
       "       [ 1.25176132],\n",
       "       [ 1.59621957],\n",
       "       [ 0.90730306],\n",
       "       [ 0.90730306],\n",
       "       [-1.1594465 ],\n",
       "       [ 1.59621957],\n",
       "       [-0.47052998],\n",
       "       [ 1.25176132],\n",
       "       [ 0.21838654],\n",
       "       [-1.50390476],\n",
       "       [-1.1594465 ],\n",
       "       [-0.12607172],\n",
       "       [-0.12607172],\n",
       "       [-1.1594465 ],\n",
       "       [-0.81498824],\n",
       "       [-1.1594465 ],\n",
       "       [ 1.59621957],\n",
       "       [-1.50390476],\n",
       "       [-0.12607172],\n",
       "       [ 0.90730306],\n",
       "       [ 0.5628448 ],\n",
       "       [-0.47052998],\n",
       "       [ 0.21838654],\n",
       "       [ 0.90730306],\n",
       "       [ 0.90730306],\n",
       "       [ 0.5628448 ],\n",
       "       [ 1.25176132],\n",
       "       [-0.47052998],\n",
       "       [-1.50390476],\n",
       "       [ 0.21838654],\n",
       "       [ 0.5628448 ],\n",
       "       [ 1.59621957],\n",
       "       [-0.81498824],\n",
       "       [-0.47052998],\n",
       "       [ 0.21838654],\n",
       "       [ 0.5628448 ],\n",
       "       [ 0.5628448 ],\n",
       "       [ 0.5628448 ],\n",
       "       [ 1.25176132],\n",
       "       [ 0.21838654],\n",
       "       [-1.50390476],\n",
       "       [ 1.25176132],\n",
       "       [-0.81498824],\n",
       "       [ 0.21838654],\n",
       "       [ 0.90730306],\n",
       "       [-0.12607172],\n",
       "       [ 0.5628448 ],\n",
       "       [-0.47052998],\n",
       "       [-0.81498824],\n",
       "       [ 0.5628448 ],\n",
       "       [-0.12607172],\n",
       "       [-1.1594465 ],\n",
       "       [ 0.90730306],\n",
       "       [ 0.21838654],\n",
       "       [-1.50390476],\n",
       "       [ 0.5628448 ],\n",
       "       [-1.1594465 ],\n",
       "       [ 1.59621957],\n",
       "       [ 1.25176132],\n",
       "       [-1.50390476],\n",
       "       [ 1.59621957],\n",
       "       [-1.1594465 ],\n",
       "       [ 0.21838654],\n",
       "       [-1.50390476],\n",
       "       [-1.50390476],\n",
       "       [ 0.5628448 ],\n",
       "       [ 1.59621957],\n",
       "       [-1.50390476],\n",
       "       [-1.1594465 ],\n",
       "       [-1.1594465 ],\n",
       "       [ 0.21838654],\n",
       "       [-1.1594465 ],\n",
       "       [ 0.21838654],\n",
       "       [ 0.90730306],\n",
       "       [-0.12607172],\n",
       "       [-0.81498824],\n",
       "       [-0.47052998],\n",
       "       [ 0.5628448 ],\n",
       "       [-1.50390476],\n",
       "       [ 1.25176132],\n",
       "       [-0.12607172],\n",
       "       [-0.81498824],\n",
       "       [-0.47052998],\n",
       "       [ 0.90730306],\n",
       "       [ 0.90730306],\n",
       "       [ 1.25176132],\n",
       "       [ 1.59621957],\n",
       "       [-1.50390476],\n",
       "       [ 1.25176132],\n",
       "       [-1.1594465 ],\n",
       "       [ 0.5628448 ],\n",
       "       [ 0.5628448 ],\n",
       "       [ 0.90730306],\n",
       "       [ 0.90730306],\n",
       "       [-0.81498824],\n",
       "       [ 0.5628448 ],\n",
       "       [ 0.90730306],\n",
       "       [-1.1594465 ],\n",
       "       [-0.47052998],\n",
       "       [-1.50390476],\n",
       "       [ 1.59621957],\n",
       "       [ 1.59621957],\n",
       "       [ 0.5628448 ],\n",
       "       [-0.47052998],\n",
       "       [ 0.90730306],\n",
       "       [ 0.90730306],\n",
       "       [-1.1594465 ],\n",
       "       [ 1.25176132],\n",
       "       [ 1.25176132],\n",
       "       [-0.81498824],\n",
       "       [ 1.25176132],\n",
       "       [-0.81498824],\n",
       "       [-1.50390476],\n",
       "       [-0.81498824],\n",
       "       [-0.47052998],\n",
       "       [ 1.25176132],\n",
       "       [-0.12607172],\n",
       "       [-1.1594465 ],\n",
       "       [-0.81498824],\n",
       "       [-1.1594465 ],\n",
       "       [ 0.5628448 ],\n",
       "       [ 0.90730306],\n",
       "       [-1.1594465 ],\n",
       "       [-0.47052998],\n",
       "       [-1.50390476],\n",
       "       [ 1.25176132],\n",
       "       [ 0.90730306],\n",
       "       [-1.1594465 ],\n",
       "       [ 0.21838654],\n",
       "       [ 0.21838654],\n",
       "       [ 0.21838654],\n",
       "       [ 0.5628448 ],\n",
       "       [ 0.21838654],\n",
       "       [-0.47052998],\n",
       "       [-0.47052998],\n",
       "       [-1.1594465 ],\n",
       "       [ 0.90730306],\n",
       "       [ 0.90730306],\n",
       "       [-0.81498824],\n",
       "       [-1.50390476],\n",
       "       [-0.47052998],\n",
       "       [-0.12607172],\n",
       "       [-1.1594465 ],\n",
       "       [ 1.25176132],\n",
       "       [ 0.21838654],\n",
       "       [-0.47052998],\n",
       "       [ 1.25176132],\n",
       "       [-0.12607172],\n",
       "       [-0.81498824],\n",
       "       [-0.81498824],\n",
       "       [-0.47052998],\n",
       "       [ 0.21838654],\n",
       "       [ 0.90730306],\n",
       "       [-0.47052998],\n",
       "       [-0.12607172],\n",
       "       [-0.12607172],\n",
       "       [-1.50390476],\n",
       "       [-1.50390476],\n",
       "       [-0.12607172],\n",
       "       [-0.12607172],\n",
       "       [ 1.59621957],\n",
       "       [ 0.90730306],\n",
       "       [-0.12607172],\n",
       "       [-1.1594465 ],\n",
       "       [ 1.59621957],\n",
       "       [-0.12607172],\n",
       "       [ 0.90730306],\n",
       "       [-0.12607172],\n",
       "       [-1.50390476],\n",
       "       [-0.47052998],\n",
       "       [-1.50390476],\n",
       "       [ 0.21838654],\n",
       "       [-0.12607172],\n",
       "       [ 0.5628448 ],\n",
       "       [-0.81498824],\n",
       "       [ 0.21838654],\n",
       "       [-1.50390476],\n",
       "       [-0.12607172],\n",
       "       [ 1.59621957],\n",
       "       [-0.81498824],\n",
       "       [ 1.59621957],\n",
       "       [ 0.90730306],\n",
       "       [ 0.5628448 ],\n",
       "       [ 1.59621957],\n",
       "       [-1.1594465 ],\n",
       "       [ 0.5628448 ],\n",
       "       [-0.81498824],\n",
       "       [-1.50390476],\n",
       "       [ 0.90730306],\n",
       "       [-0.12607172],\n",
       "       [-0.81498824],\n",
       "       [-0.47052998],\n",
       "       [ 1.59621957],\n",
       "       [-1.1594465 ],\n",
       "       [ 0.5628448 ],\n",
       "       [-0.12607172],\n",
       "       [ 1.25176132],\n",
       "       [ 1.25176132],\n",
       "       [ 0.5628448 ],\n",
       "       [-0.12607172],\n",
       "       [ 1.25176132],\n",
       "       [ 1.59621957],\n",
       "       [-0.12607172],\n",
       "       [ 0.5628448 ],\n",
       "       [ 1.25176132],\n",
       "       [ 1.59621957],\n",
       "       [ 0.21838654],\n",
       "       [ 0.21838654],\n",
       "       [ 1.59621957],\n",
       "       [ 0.21838654],\n",
       "       [-0.47052998],\n",
       "       [-0.12607172],\n",
       "       [-1.1594465 ],\n",
       "       [ 1.59621957],\n",
       "       [-0.47052998],\n",
       "       [-1.50390476],\n",
       "       [ 1.59621957],\n",
       "       [-1.1594465 ],\n",
       "       [ 1.59621957],\n",
       "       [ 1.25176132],\n",
       "       [ 1.59621957],\n",
       "       [ 0.21838654],\n",
       "       [-1.50390476],\n",
       "       [-1.50390476],\n",
       "       [-0.12607172],\n",
       "       [-0.12607172],\n",
       "       [ 1.25176132],\n",
       "       [-0.47052998],\n",
       "       [ 0.90730306],\n",
       "       [-1.1594465 ],\n",
       "       [ 0.90730306],\n",
       "       [ 1.59621957],\n",
       "       [-1.1594465 ],\n",
       "       [ 1.59621957],\n",
       "       [ 0.21838654],\n",
       "       [-1.1594465 ],\n",
       "       [-0.12607172],\n",
       "       [ 1.25176132],\n",
       "       [ 0.21838654],\n",
       "       [ 0.90730306],\n",
       "       [-1.50390476],\n",
       "       [-0.81498824],\n",
       "       [-0.47052998],\n",
       "       [-0.47052998],\n",
       "       [ 0.5628448 ],\n",
       "       [ 0.90730306],\n",
       "       [-1.1594465 ],\n",
       "       [-0.81498824],\n",
       "       [-0.81498824],\n",
       "       [ 1.59621957],\n",
       "       [ 0.5628448 ],\n",
       "       [-0.47052998],\n",
       "       [ 1.25176132],\n",
       "       [-1.50390476],\n",
       "       [ 0.21838654],\n",
       "       [ 0.5628448 ],\n",
       "       [ 1.59621957],\n",
       "       [ 0.90730306],\n",
       "       [ 0.21838654],\n",
       "       [ 0.90730306],\n",
       "       [-1.1594465 ],\n",
       "       [-0.81498824],\n",
       "       [-0.12607172],\n",
       "       [ 1.59621957],\n",
       "       [ 0.5628448 ],\n",
       "       [ 1.25176132],\n",
       "       [ 0.5628448 ],\n",
       "       [-0.12607172],\n",
       "       [-1.50390476],\n",
       "       [-1.1594465 ],\n",
       "       [ 1.25176132],\n",
       "       [ 1.59621957],\n",
       "       [-1.50390476],\n",
       "       [ 0.90730306],\n",
       "       [-0.47052998],\n",
       "       [-0.12607172],\n",
       "       [-0.12607172],\n",
       "       [ 1.59621957],\n",
       "       [ 0.21838654],\n",
       "       [-0.81498824],\n",
       "       [-1.1594465 ],\n",
       "       [-1.1594465 ],\n",
       "       [ 0.21838654],\n",
       "       [-0.81498824],\n",
       "       [-0.81498824],\n",
       "       [ 1.25176132],\n",
       "       [-1.50390476],\n",
       "       [-1.1594465 ],\n",
       "       [-0.81498824],\n",
       "       [ 1.59621957],\n",
       "       [-1.50390476],\n",
       "       [ 0.5628448 ],\n",
       "       [-1.1594465 ],\n",
       "       [ 0.90730306],\n",
       "       [-1.1594465 ],\n",
       "       [ 0.21838654],\n",
       "       [-1.50390476],\n",
       "       [ 1.25176132],\n",
       "       [ 0.5628448 ],\n",
       "       [-0.81498824],\n",
       "       [ 1.25176132],\n",
       "       [ 0.5628448 ],\n",
       "       [-0.12607172],\n",
       "       [-0.12607172],\n",
       "       [-1.1594465 ],\n",
       "       [ 0.21838654],\n",
       "       [-1.50390476],\n",
       "       [-0.47052998],\n",
       "       [-0.47052998],\n",
       "       [ 1.59621957],\n",
       "       [-0.47052998],\n",
       "       [-0.47052998],\n",
       "       [ 1.25176132],\n",
       "       [ 0.90730306],\n",
       "       [-1.50390476],\n",
       "       [-0.47052998],\n",
       "       [-0.47052998],\n",
       "       [ 1.25176132],\n",
       "       [-1.1594465 ],\n",
       "       [-0.81498824],\n",
       "       [ 0.5628448 ],\n",
       "       [-0.81498824],\n",
       "       [ 0.21838654],\n",
       "       [ 1.25176132],\n",
       "       [-0.81498824],\n",
       "       [ 0.5628448 ],\n",
       "       [-0.47052998],\n",
       "       [ 0.90730306],\n",
       "       [-0.81498824],\n",
       "       [ 0.5628448 ],\n",
       "       [ 1.25176132],\n",
       "       [-1.50390476],\n",
       "       [ 0.90730306],\n",
       "       [ 0.5628448 ],\n",
       "       [ 0.5628448 ],\n",
       "       [ 1.59621957],\n",
       "       [ 0.21838654],\n",
       "       [-0.47052998],\n",
       "       [ 0.21838654],\n",
       "       [-0.81498824],\n",
       "       [-0.47052998],\n",
       "       [ 0.5628448 ],\n",
       "       [-0.47052998],\n",
       "       [ 0.5628448 ],\n",
       "       [-1.50390476],\n",
       "       [ 1.25176132],\n",
       "       [ 0.5628448 ],\n",
       "       [-0.81498824],\n",
       "       [-0.81498824],\n",
       "       [-0.47052998],\n",
       "       [-1.1594465 ],\n",
       "       [-0.12607172],\n",
       "       [ 1.25176132],\n",
       "       [-0.12607172],\n",
       "       [-1.1594465 ],\n",
       "       [ 1.59621957],\n",
       "       [ 1.59621957],\n",
       "       [ 0.5628448 ],\n",
       "       [ 1.25176132],\n",
       "       [ 0.90730306],\n",
       "       [-1.1594465 ],\n",
       "       [ 0.90730306],\n",
       "       [-1.1594465 ],\n",
       "       [ 0.90730306],\n",
       "       [-1.50390476],\n",
       "       [-0.12607172],\n",
       "       [-1.1594465 ],\n",
       "       [ 0.90730306],\n",
       "       [-1.1594465 ],\n",
       "       [-1.50390476],\n",
       "       [-0.12607172],\n",
       "       [-1.1594465 ],\n",
       "       [ 0.21838654],\n",
       "       [-1.1594465 ],\n",
       "       [-0.81498824],\n",
       "       [ 1.59621957],\n",
       "       [-1.1594465 ],\n",
       "       [-1.50390476],\n",
       "       [-0.47052998],\n",
       "       [-1.1594465 ],\n",
       "       [ 0.5628448 ],\n",
       "       [-1.50390476],\n",
       "       [ 1.59621957],\n",
       "       [ 1.59621957],\n",
       "       [ 1.59621957],\n",
       "       [-1.1594465 ],\n",
       "       [ 0.90730306],\n",
       "       [-1.1594465 ],\n",
       "       [ 0.90730306],\n",
       "       [-0.81498824],\n",
       "       [-0.47052998],\n",
       "       [ 0.21838654],\n",
       "       [ 1.59621957],\n",
       "       [-0.12607172],\n",
       "       [-0.81498824],\n",
       "       [ 0.21838654],\n",
       "       [ 0.21838654],\n",
       "       [ 0.21838654],\n",
       "       [ 1.59621957],\n",
       "       [-1.1594465 ],\n",
       "       [-1.1594465 ],\n",
       "       [ 0.21838654],\n",
       "       [ 1.25176132],\n",
       "       [-1.50390476],\n",
       "       [-0.12607172],\n",
       "       [-1.1594465 ],\n",
       "       [ 0.21838654],\n",
       "       [ 0.90730306],\n",
       "       [ 0.90730306],\n",
       "       [-1.1594465 ],\n",
       "       [-1.50390476],\n",
       "       [ 0.21838654],\n",
       "       [-0.81498824],\n",
       "       [-0.12607172],\n",
       "       [ 0.90730306],\n",
       "       [ 0.90730306],\n",
       "       [-0.81498824],\n",
       "       [ 1.59621957],\n",
       "       [-1.50390476],\n",
       "       [-0.12607172],\n",
       "       [-1.1594465 ],\n",
       "       [ 0.5628448 ],\n",
       "       [-0.47052998],\n",
       "       [-0.12607172],\n",
       "       [ 0.21838654],\n",
       "       [ 0.5628448 ],\n",
       "       [-0.81498824],\n",
       "       [-1.1594465 ],\n",
       "       [-1.50390476]])"
      ]
     },
     "execution_count": 114,
     "metadata": {},
     "output_type": "execute_result"
    }
   ],
   "source": [
    "v_1_scaled = scaler.fit_transform(v_1.reshape(-1, 1))\n",
    "v_1_scaled\n",
    "v_2_scaled = scaler.fit_transform(v_2.reshape(-1, 1))\n",
    "v_2_scaled"
   ]
  },
  {
   "cell_type": "code",
   "execution_count": 115,
   "metadata": {},
   "outputs": [
    {
     "name": "stdout",
     "output_type": "stream",
     "text": [
      "1.721251037375933\n",
      "-1.6720130432688\n",
      "1.5962195747033796\n",
      "-1.5039047611469474\n"
     ]
    }
   ],
   "source": [
    "print(v_1_scaled.max())\n",
    "print(v_1_scaled.min())\n",
    "\n",
    "print(v_2_scaled.max())\n",
    "print(v_2_scaled.min())"
   ]
  },
  {
   "cell_type": "code",
   "execution_count": 116,
   "metadata": {},
   "outputs": [
    {
     "data": {
      "text/plain": [
       "array([[-0.90068117,  1.01900435],\n",
       "       [-1.14301691, -0.13197948],\n",
       "       [-1.38535265,  0.32841405],\n",
       "       [-1.50652052,  0.09821729],\n",
       "       [-1.02184904,  1.24920112],\n",
       "       [-0.53717756,  1.93979142],\n",
       "       [-1.50652052,  0.78880759],\n",
       "       [-1.02184904,  0.78880759],\n",
       "       [-1.74885626, -0.36217625],\n",
       "       [-1.14301691,  0.09821729],\n",
       "       [-0.53717756,  1.47939788],\n",
       "       [-1.26418478,  0.78880759],\n",
       "       [-1.26418478, -0.13197948],\n",
       "       [-1.87002413, -0.13197948],\n",
       "       [-0.05250608,  2.16998818],\n",
       "       [-0.17367395,  3.09077525],\n",
       "       [-0.53717756,  1.93979142],\n",
       "       [-0.90068117,  1.01900435],\n",
       "       [-0.17367395,  1.70959465],\n",
       "       [-0.90068117,  1.70959465],\n",
       "       [-0.53717756,  0.78880759],\n",
       "       [-0.90068117,  1.47939788],\n",
       "       [-1.50652052,  1.24920112],\n",
       "       [-0.90068117,  0.55861082],\n",
       "       [-1.26418478,  0.78880759],\n",
       "       [-1.02184904, -0.13197948],\n",
       "       [-1.02184904,  0.78880759],\n",
       "       [-0.7795133 ,  1.01900435],\n",
       "       [-0.7795133 ,  0.78880759],\n",
       "       [-1.38535265,  0.32841405],\n",
       "       [-1.26418478,  0.09821729],\n",
       "       [-0.53717756,  0.78880759],\n",
       "       [-0.7795133 ,  2.40018495],\n",
       "       [-0.41600969,  2.63038172],\n",
       "       [-1.14301691,  0.09821729],\n",
       "       [-1.02184904,  0.32841405],\n",
       "       [-0.41600969,  1.01900435],\n",
       "       [-1.14301691,  1.24920112],\n",
       "       [-1.74885626, -0.13197948],\n",
       "       [-0.90068117,  0.78880759],\n",
       "       [-1.02184904,  1.01900435],\n",
       "       [-1.62768839, -1.74335684],\n",
       "       [-1.74885626,  0.32841405],\n",
       "       [-1.02184904,  1.01900435],\n",
       "       [-0.90068117,  1.70959465],\n",
       "       [-1.26418478, -0.13197948],\n",
       "       [-0.90068117,  1.70959465],\n",
       "       [-1.50652052,  0.32841405],\n",
       "       [-0.65834543,  1.47939788],\n",
       "       [-1.02184904,  0.55861082],\n",
       "       [ 1.40150837,  0.32841405],\n",
       "       [ 0.67450115,  0.32841405],\n",
       "       [ 1.2803405 ,  0.09821729],\n",
       "       [-0.41600969, -1.74335684],\n",
       "       [ 0.79566902, -0.59237301],\n",
       "       [-0.17367395, -0.59237301],\n",
       "       [ 0.55333328,  0.55861082],\n",
       "       [-1.14301691, -1.51316008],\n",
       "       [ 0.91683689, -0.36217625],\n",
       "       [-0.7795133 , -0.82256978],\n",
       "       [-1.02184904, -2.43394714],\n",
       "       [ 0.06866179, -0.13197948],\n",
       "       [ 0.18982966, -1.97355361],\n",
       "       [ 0.31099753, -0.36217625],\n",
       "       [-0.29484182, -0.36217625],\n",
       "       [ 1.03800476,  0.09821729],\n",
       "       [-0.29484182, -0.13197948],\n",
       "       [-0.05250608, -0.82256978],\n",
       "       [ 0.4321654 , -1.97355361],\n",
       "       [-0.29484182, -1.28296331],\n",
       "       [ 0.06866179,  0.32841405],\n",
       "       [ 0.31099753, -0.59237301],\n",
       "       [ 0.55333328, -1.28296331],\n",
       "       [ 0.31099753, -0.59237301],\n",
       "       [ 0.67450115, -0.36217625],\n",
       "       [ 0.91683689, -0.13197948],\n",
       "       [ 1.15917263, -0.59237301],\n",
       "       [ 1.03800476, -0.13197948],\n",
       "       [ 0.18982966, -0.36217625],\n",
       "       [-0.17367395, -1.05276654],\n",
       "       [-0.41600969, -1.51316008],\n",
       "       [-0.41600969, -1.51316008],\n",
       "       [-0.05250608, -0.82256978],\n",
       "       [ 0.18982966, -0.82256978],\n",
       "       [-0.53717756, -0.13197948],\n",
       "       [ 0.18982966,  0.78880759],\n",
       "       [ 1.03800476,  0.09821729],\n",
       "       [ 0.55333328, -1.74335684],\n",
       "       [-0.29484182, -0.13197948],\n",
       "       [-0.41600969, -1.28296331],\n",
       "       [-0.41600969, -1.05276654],\n",
       "       [ 0.31099753, -0.13197948],\n",
       "       [-0.05250608, -1.05276654],\n",
       "       [-1.02184904, -1.74335684],\n",
       "       [-0.29484182, -0.82256978],\n",
       "       [-0.17367395, -0.13197948],\n",
       "       [-0.17367395, -0.36217625],\n",
       "       [ 0.4321654 , -0.36217625],\n",
       "       [-0.90068117, -1.28296331],\n",
       "       [-0.17367395, -0.59237301],\n",
       "       [ 0.55333328,  0.55861082],\n",
       "       [-0.05250608, -0.82256978],\n",
       "       [ 1.52267624, -0.13197948],\n",
       "       [ 0.55333328, -0.36217625],\n",
       "       [ 0.79566902, -0.13197948],\n",
       "       [ 2.12851559, -0.13197948],\n",
       "       [-1.14301691, -1.28296331],\n",
       "       [ 1.76501198, -0.36217625],\n",
       "       [ 1.03800476, -1.28296331],\n",
       "       [ 1.64384411,  1.24920112],\n",
       "       [ 0.79566902,  0.32841405],\n",
       "       [ 0.67450115, -0.82256978],\n",
       "       [ 1.15917263, -0.13197948],\n",
       "       [-0.17367395, -1.28296331],\n",
       "       [-0.05250608, -0.59237301],\n",
       "       [ 0.67450115,  0.32841405],\n",
       "       [ 0.79566902, -0.13197948],\n",
       "       [ 2.24968346,  1.70959465],\n",
       "       [ 2.24968346, -1.05276654],\n",
       "       [ 0.18982966, -1.97355361],\n",
       "       [ 1.2803405 ,  0.32841405],\n",
       "       [-0.29484182, -0.59237301],\n",
       "       [ 2.24968346, -0.59237301],\n",
       "       [ 0.55333328, -0.82256978],\n",
       "       [ 1.03800476,  0.55861082],\n",
       "       [ 1.64384411,  0.32841405],\n",
       "       [ 0.4321654 , -0.59237301],\n",
       "       [ 0.31099753, -0.13197948],\n",
       "       [ 0.67450115, -0.59237301],\n",
       "       [ 1.64384411, -0.13197948],\n",
       "       [ 1.88617985, -0.59237301],\n",
       "       [ 2.4920192 ,  1.70959465],\n",
       "       [ 0.67450115, -0.59237301],\n",
       "       [ 0.55333328, -0.59237301],\n",
       "       [ 0.31099753, -1.05276654],\n",
       "       [ 2.24968346, -0.13197948],\n",
       "       [ 0.55333328,  0.78880759],\n",
       "       [ 0.67450115,  0.09821729],\n",
       "       [ 0.18982966, -0.13197948],\n",
       "       [ 1.2803405 ,  0.09821729],\n",
       "       [ 1.03800476,  0.09821729],\n",
       "       [ 1.2803405 ,  0.09821729],\n",
       "       [-0.05250608, -0.82256978],\n",
       "       [ 1.15917263,  0.32841405],\n",
       "       [ 1.03800476,  0.55861082],\n",
       "       [ 1.03800476, -0.13197948],\n",
       "       [ 0.55333328, -1.28296331],\n",
       "       [ 0.79566902, -0.13197948],\n",
       "       [ 0.4321654 ,  0.78880759],\n",
       "       [ 0.06866179, -0.13197948]])"
      ]
     },
     "execution_count": 116,
     "metadata": {},
     "output_type": "execute_result"
    }
   ],
   "source": [
    "X_scaled = scaler.fit_transform(X,y)\n",
    "X_scaled"
   ]
  },
  {
   "cell_type": "code",
   "execution_count": 117,
   "metadata": {},
   "outputs": [
    {
     "data": {
      "text/plain": [
       "<matplotlib.collections.PathCollection at 0x186e416e100>"
      ]
     },
     "execution_count": 117,
     "metadata": {},
     "output_type": "execute_result"
    },
    {
     "data": {
      "image/png": "[encoded data removed]",
      "text/plain": [
       "<Figure size 432x288 with 1 Axes>"
      ]
     },
     "metadata": {
      "needs_background": "light"
     },
     "output_type": "display_data"
    }
   ],
   "source": [
    "plt.scatter(irisklaster['sepal_length'],irisklaster['sepal_width'], cmap='autumn', s=60)"
   ]
  },
  {
   "cell_type": "code",
   "execution_count": 118,
   "metadata": {},
   "outputs": [],
   "source": [
    "#никаких изменений нет. Нормализация была не нужна?"
   ]
  },
  {
   "cell_type": "code",
   "execution_count": 119,
   "metadata": {},
   "outputs": [],
   "source": [
    "from sklearn.cluster import KMeans"
   ]
  },
  {
   "cell_type": "code",
   "execution_count": 120,
   "metadata": {},
   "outputs": [
    {
     "data": {
      "text/plain": [
       "array([0, 0, 0, 0, 0, 0, 0, 0, 0, 0, 0, 0, 0, 0, 0, 0, 0, 0, 0, 0, 0, 0,\n",
       "       0, 0, 0, 0, 0, 0, 0, 0, 0, 0, 0, 0, 0, 0, 0, 0, 0, 0, 0, 1, 0, 0,\n",
       "       0, 0, 0, 0, 0, 0, 1, 1, 1, 1, 1, 1, 1, 1, 1, 1, 1, 1, 1, 1, 1, 1,\n",
       "       1, 1, 1, 1, 1, 1, 1, 1, 1, 1, 1, 1, 1, 1, 1, 1, 1, 1, 1, 0, 1, 1,\n",
       "       1, 1, 1, 1, 1, 1, 1, 1, 1, 1, 1, 1, 1, 1, 1, 1, 1, 1, 1, 1, 1, 1,\n",
       "       1, 1, 1, 1, 1, 1, 1, 1, 1, 1, 1, 1, 1, 1, 1, 1, 1, 1, 1, 1, 1, 1,\n",
       "       1, 1, 1, 1, 1, 1, 1, 1, 1, 1, 1, 1, 1, 1, 1, 1, 1, 1])"
      ]
     },
     "execution_count": 120,
     "metadata": {},
     "output_type": "execute_result"
    }
   ],
   "source": [
    "kmeans = KMeans(n_clusters=2)\n",
    "clusters = kmeans.fit_predict(X_scaled)\n",
    "clusters"
   ]
  },
  {
   "cell_type": "code",
   "execution_count": 121,
   "metadata": {},
   "outputs": [
    {
     "data": {
      "text/plain": [
       "<matplotlib.collections.PathCollection at 0x186e40033d0>"
      ]
     },
     "execution_count": 121,
     "metadata": {},
     "output_type": "execute_result"
    },
    {
     "data": {
      "image/png": "[encoded data removed]",
      "text/plain": [
       "<Figure size 432x288 with 1 Axes>"
      ]
     },
     "metadata": {
      "needs_background": "light"
     },
     "output_type": "display_data"
    }
   ],
   "source": [
    "plt.scatter(irisklaster['sepal_length'],irisklaster['sepal_width'], cmap='autumn', c=clusters, s=60)"
   ]
  },
  {
   "cell_type": "code",
   "execution_count": 122,
   "metadata": {},
   "outputs": [],
   "source": [
    "k_inertia = []\n",
    "ks = range(1, 10)\n",
    "\n",
    "for k in ks:\n",
    "    clf_kmeans = KMeans(n_clusters=k)\n",
    "    clusters_kmeans = clf_kmeans.fit_predict(X_scaled)\n",
    "    k_inertia.append(clf_kmeans.inertia_)"
   ]
  },
  {
   "cell_type": "code",
   "execution_count": 123,
   "metadata": {},
   "outputs": [
    {
     "data": {
      "text/plain": [
       "[<matplotlib.lines.Line2D at 0x186e24e2dc0>]"
      ]
     },
     "execution_count": 123,
     "metadata": {},
     "output_type": "execute_result"
    },
    {
     "data": {
      "image/png": "[encoded data removed]",
      "text/plain": [
       "<Figure size 432x288 with 1 Axes>"
      ]
     },
     "metadata": {
      "needs_background": "light"
     },
     "output_type": "display_data"
    }
   ],
   "source": [
    "plt.plot(ks, k_inertia)\n",
    "plt.plot(ks, k_inertia ,'ro')"
   ]
  },
  {
   "cell_type": "code",
   "execution_count": 124,
   "metadata": {},
   "outputs": [
    {
     "data": {
      "text/plain": [
       "array([2, 2, 2, 2, 2, 2, 2, 2, 2, 2, 2, 2, 2, 2, 2, 2, 2, 2, 2, 2, 2, 2,\n",
       "       2, 2, 2, 2, 2, 2, 2, 2, 2, 2, 2, 2, 2, 2, 2, 2, 2, 2, 2, 1, 2, 2,\n",
       "       2, 2, 2, 2, 2, 2, 0, 0, 0, 1, 0, 1, 0, 1, 0, 1, 1, 1, 1, 1, 1, 0,\n",
       "       1, 1, 1, 1, 0, 1, 1, 1, 0, 0, 0, 0, 1, 1, 1, 1, 1, 1, 1, 0, 0, 1,\n",
       "       1, 1, 1, 0, 1, 1, 1, 1, 1, 1, 1, 1, 0, 1, 0, 0, 0, 0, 1, 0, 1, 0,\n",
       "       0, 1, 0, 1, 1, 0, 0, 0, 0, 1, 0, 1, 0, 1, 0, 0, 1, 0, 0, 0, 0, 0,\n",
       "       0, 1, 1, 0, 0, 0, 1, 0, 0, 0, 1, 0, 0, 0, 1, 0, 0, 1])"
      ]
     },
     "execution_count": 124,
     "metadata": {},
     "output_type": "execute_result"
    }
   ],
   "source": [
    "#3 кластера видны четко\n",
    "kmeans = KMeans(n_clusters=3)\n",
    "clusters = kmeans.fit_predict(X_scaled)\n",
    "clusters"
   ]
  },
  {
   "cell_type": "code",
   "execution_count": 125,
   "metadata": {},
   "outputs": [
    {
     "data": {
      "text/plain": [
       "<matplotlib.collections.PathCollection at 0x186e2edb580>"
      ]
     },
     "execution_count": 125,
     "metadata": {},
     "output_type": "execute_result"
    },
    {
     "data": {
      "image/png": "[encoded data removed]",
      "text/plain": [
       "<Figure size 432x288 with 1 Axes>"
      ]
     },
     "metadata": {
      "needs_background": "light"
     },
     "output_type": "display_data"
    }
   ],
   "source": [
    "plt.scatter(irisklaster['sepal_length'],irisklaster['sepal_width'], cmap='autumn', c=clusters, s=60)"
   ]
  },
  {
   "cell_type": "code",
   "execution_count": null,
   "metadata": {},
   "outputs": [],
   "source": [
    "# кластеры четко показывают границы. "
   ]
  }
 ],
 "metadata": {
  "kernelspec": {
   "display_name": "Python 3",
   "language": "python",
   "name": "python3"
  },
  "language_info": {
   "codemirror_mode": {
    "name": "ipython",
    "version": 3
   },
   "file_extension": ".py",
   "mimetype": "text/x-python",
   "name": "python",
   "nbconvert_exporter": "python",
   "pygments_lexer": "ipython3",
   "version": "3.8.3"
  }
 },
 "nbformat": 4,
 "nbformat_minor": 4
}
